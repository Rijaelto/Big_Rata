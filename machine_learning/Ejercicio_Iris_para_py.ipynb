{
 "cells": [
  {
   "cell_type": "code",
   "execution_count": 8,
   "metadata": {},
   "outputs": [],
   "source": [
    "from sklearn.datasets import load_iris\n",
    "from sklearn.svm import SVC\n",
    "from sklearn.model_selection import train_test_split\n",
    "import pickle\n",
    "import pandas as pd\n",
    "import numpy as np\n",
    "import os"
   ]
  },
  {
   "cell_type": "code",
   "execution_count": 12,
   "metadata": {},
   "outputs": [],
   "source": [
    "from sklearn.metrics import confusion_matrix,precision_score,accuracy_score,recall_score,f1_score\n",
    "\n",
    "def resultados(y_true,y_pred):\n",
    "    print(\"Matriz de confusion:\")\n",
    "    matrix = confusion_matrix(y_true, y_pred)\n",
    "    print(matrix)\n",
    "    accuracy=accuracy_score(y_true, y_pred)\n",
    "    precision=precision_score(y_true, y_pred, average='macro')\n",
    "    recall=recall_score(y_true, y_pred, average='macro')\n",
    "    f1=f1_score(y_true, y_pred, average='macro')\n",
    "    print('Precisión(Accuracy): {}'.format(accuracy))\n",
    "    print('Exactitud(Precisión): {}'.format(precision))\n",
    "    print('Exhaustividad(Recall): {}'.format(recall))\n",
    "    print('F1: {}'.format(f1))"
   ]
  },
  {
   "cell_type": "code",
   "execution_count": 13,
   "metadata": {},
   "outputs": [],
   "source": [
    "iris = load_iris()"
   ]
  },
  {
   "cell_type": "code",
   "execution_count": 14,
   "metadata": {},
   "outputs": [],
   "source": [
    "X_train, X_test, y_train, y_test = train_test_split(iris.data[:,0:4], iris.target, random_state = 3,test_size=0.1)"
   ]
  },
  {
   "cell_type": "code",
   "execution_count": 15,
   "metadata": {},
   "outputs": [
    {
     "name": "stdout",
     "output_type": "stream",
     "text": [
      "---Resultados conjunto de entrenamiento\n",
      "Matriz de confusion:\n",
      "[[43  0  0]\n",
      " [ 0 43  2]\n",
      " [ 0  0 47]]\n",
      "Precisión(Accuracy): 0.9851851851851852\n",
      "Exactitud(Precisión): 0.9863945578231292\n",
      "Exhaustividad(Recall): 0.9851851851851853\n",
      "F1: 0.985479797979798\n",
      "---Resultados conjunto de test\n",
      "Matriz de confusion:\n",
      "[[7 0 0]\n",
      " [0 5 0]\n",
      " [0 0 3]]\n",
      "Precisión(Accuracy): 1.0\n",
      "Exactitud(Precisión): 1.0\n",
      "Exhaustividad(Recall): 1.0\n",
      "F1: 1.0\n"
     ]
    }
   ],
   "source": [
    "svm_classifier = SVC(gamma='auto').fit(X_train, y_train)\n",
    "y_train_svm = svm_classifier.predict(X_train)\n",
    "y_pred_svm = svm_classifier.predict(X_test)\n",
    "print(\"---Resultados conjunto de entrenamiento\")\n",
    "resultados(y_train,y_train_svm)\n",
    "print(\"---Resultados conjunto de test\")\n",
    "resultados(y_test,y_pred_svm)"
   ]
  },
  {
   "cell_type": "code",
   "execution_count": null,
   "metadata": {},
   "outputs": [],
   "source": [
    "print(\"Se procede a entrenar el modelo con todo el conjunto de datos\")"
   ]
  },
  {
   "cell_type": "code",
   "execution_count": 18,
   "metadata": {},
   "outputs": [],
   "source": [
    "data = pd.DataFrame(data= np.c_[iris['data'], iris['target']],\n",
    "                    columns= ['sepal_length', 'sepal_width','petal_length','petal_width','Tarjet'])"
   ]
  },
  {
   "cell_type": "code",
   "execution_count": 19,
   "metadata": {},
   "outputs": [],
   "source": [
    "svm_classifier = SVC(gamma='auto').fit(data.loc[:, data.columns != 'Tarjet'],data['Tarjet'])"
   ]
  },
  {
   "cell_type": "code",
   "execution_count": 22,
   "metadata": {},
   "outputs": [],
   "source": [
    "path = \"models/\"\n",
    "filename = 'svm_classifier.sav'"
   ]
  },
  {
   "cell_type": "code",
   "execution_count": 23,
   "metadata": {},
   "outputs": [
    {
     "name": "stdout",
     "output_type": "stream",
     "text": [
      "Modelo serializado en models/svm_classifier.sav\n"
     ]
    }
   ],
   "source": [
    "try:\n",
    "    if not os.path.exists('models'):\n",
    "        os.makedirs('models')\n",
    "    pickle.dump(svm_classifier, open(path+filename, 'wb'))\n",
    "    print(\"Modelo serializado en {}\".format(path+filename))\n",
    "except:\n",
    "    print(\"Error al serializar\")"
   ]
  },
  {
   "cell_type": "code",
   "execution_count": null,
   "metadata": {},
   "outputs": [],
   "source": []
  }
 ],
 "metadata": {
  "kernelspec": {
   "display_name": "Python 3",
   "language": "python",
   "name": "python3"
  },
  "language_info": {
   "codemirror_mode": {
    "name": "ipython",
    "version": 3
   },
   "file_extension": ".py",
   "mimetype": "text/x-python",
   "name": "python",
   "nbconvert_exporter": "python",
   "pygments_lexer": "ipython3",
   "version": "3.7.7"
  },
  "toc": {
   "base_numbering": 1,
   "nav_menu": {},
   "number_sections": true,
   "sideBar": true,
   "skip_h1_title": false,
   "title_cell": "Table of Contents",
   "title_sidebar": "Contents",
   "toc_cell": false,
   "toc_position": {},
   "toc_section_display": true,
   "toc_window_display": true
  }
 },
 "nbformat": 4,
 "nbformat_minor": 4
}
