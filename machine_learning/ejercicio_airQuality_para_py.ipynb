{
 "cells": [
  {
   "cell_type": "code",
   "execution_count": 1,
   "metadata": {},
   "outputs": [],
   "source": [
    "import pandas as pd\n",
    "import numpy as np\n",
    "import pickle\n",
    "from sklearn.linear_model import LinearRegression\n",
    "from sklearn.model_selection import train_test_split\n",
    "from sklearn.metrics import r2_score\n",
    "import os\n",
    "path_data = \"data/\""
   ]
  },
  {
   "cell_type": "code",
   "execution_count": 2,
   "metadata": {},
   "outputs": [],
   "source": [
    "raw_data = pd.read_csv(path_data+\"AirQualityUCI.csv\",engine='python',sep=\";\",na_values=\"-200\",skipfooter=114)"
   ]
  },
  {
   "cell_type": "code",
   "execution_count": 3,
   "metadata": {},
   "outputs": [],
   "source": [
    "columns = raw_data.columns[:-2].tolist()"
   ]
  },
  {
   "cell_type": "code",
   "execution_count": 4,
   "metadata": {},
   "outputs": [
    {
     "data": {
      "text/html": [
       "<div>\n",
       "<style scoped>\n",
       "    .dataframe tbody tr th:only-of-type {\n",
       "        vertical-align: middle;\n",
       "    }\n",
       "\n",
       "    .dataframe tbody tr th {\n",
       "        vertical-align: top;\n",
       "    }\n",
       "\n",
       "    .dataframe thead th {\n",
       "        text-align: right;\n",
       "    }\n",
       "</style>\n",
       "<table border=\"1\" class=\"dataframe\">\n",
       "  <thead>\n",
       "    <tr style=\"text-align: right;\">\n",
       "      <th></th>\n",
       "      <th>Date</th>\n",
       "      <th>Time</th>\n",
       "      <th>CO(GT)</th>\n",
       "      <th>PT08.S1(CO)</th>\n",
       "      <th>NMHC(GT)</th>\n",
       "      <th>C6H6(GT)</th>\n",
       "      <th>PT08.S2(NMHC)</th>\n",
       "      <th>NOx(GT)</th>\n",
       "      <th>PT08.S3(NOx)</th>\n",
       "      <th>NO2(GT)</th>\n",
       "      <th>PT08.S4(NO2)</th>\n",
       "      <th>PT08.S5(O3)</th>\n",
       "      <th>T</th>\n",
       "      <th>RH</th>\n",
       "      <th>AH</th>\n",
       "    </tr>\n",
       "  </thead>\n",
       "  <tbody>\n",
       "    <tr>\n",
       "      <th>0</th>\n",
       "      <td>10/03/2004</td>\n",
       "      <td>18.00.00</td>\n",
       "      <td>2,6</td>\n",
       "      <td>1360.0</td>\n",
       "      <td>150.0</td>\n",
       "      <td>11,9</td>\n",
       "      <td>1046.0</td>\n",
       "      <td>166.0</td>\n",
       "      <td>1056.0</td>\n",
       "      <td>113.0</td>\n",
       "      <td>1692.0</td>\n",
       "      <td>1268.0</td>\n",
       "      <td>13,6</td>\n",
       "      <td>48,9</td>\n",
       "      <td>0,7578</td>\n",
       "    </tr>\n",
       "    <tr>\n",
       "      <th>1</th>\n",
       "      <td>10/03/2004</td>\n",
       "      <td>19.00.00</td>\n",
       "      <td>2</td>\n",
       "      <td>1292.0</td>\n",
       "      <td>112.0</td>\n",
       "      <td>9,4</td>\n",
       "      <td>955.0</td>\n",
       "      <td>103.0</td>\n",
       "      <td>1174.0</td>\n",
       "      <td>92.0</td>\n",
       "      <td>1559.0</td>\n",
       "      <td>972.0</td>\n",
       "      <td>13,3</td>\n",
       "      <td>47,7</td>\n",
       "      <td>0,7255</td>\n",
       "    </tr>\n",
       "    <tr>\n",
       "      <th>2</th>\n",
       "      <td>10/03/2004</td>\n",
       "      <td>20.00.00</td>\n",
       "      <td>2,2</td>\n",
       "      <td>1402.0</td>\n",
       "      <td>88.0</td>\n",
       "      <td>9,0</td>\n",
       "      <td>939.0</td>\n",
       "      <td>131.0</td>\n",
       "      <td>1140.0</td>\n",
       "      <td>114.0</td>\n",
       "      <td>1555.0</td>\n",
       "      <td>1074.0</td>\n",
       "      <td>11,9</td>\n",
       "      <td>54,0</td>\n",
       "      <td>0,7502</td>\n",
       "    </tr>\n",
       "    <tr>\n",
       "      <th>3</th>\n",
       "      <td>10/03/2004</td>\n",
       "      <td>21.00.00</td>\n",
       "      <td>2,2</td>\n",
       "      <td>1376.0</td>\n",
       "      <td>80.0</td>\n",
       "      <td>9,2</td>\n",
       "      <td>948.0</td>\n",
       "      <td>172.0</td>\n",
       "      <td>1092.0</td>\n",
       "      <td>122.0</td>\n",
       "      <td>1584.0</td>\n",
       "      <td>1203.0</td>\n",
       "      <td>11,0</td>\n",
       "      <td>60,0</td>\n",
       "      <td>0,7867</td>\n",
       "    </tr>\n",
       "    <tr>\n",
       "      <th>4</th>\n",
       "      <td>10/03/2004</td>\n",
       "      <td>22.00.00</td>\n",
       "      <td>1,6</td>\n",
       "      <td>1272.0</td>\n",
       "      <td>51.0</td>\n",
       "      <td>6,5</td>\n",
       "      <td>836.0</td>\n",
       "      <td>131.0</td>\n",
       "      <td>1205.0</td>\n",
       "      <td>116.0</td>\n",
       "      <td>1490.0</td>\n",
       "      <td>1110.0</td>\n",
       "      <td>11,2</td>\n",
       "      <td>59,6</td>\n",
       "      <td>0,7888</td>\n",
       "    </tr>\n",
       "    <tr>\n",
       "      <th>...</th>\n",
       "      <td>...</td>\n",
       "      <td>...</td>\n",
       "      <td>...</td>\n",
       "      <td>...</td>\n",
       "      <td>...</td>\n",
       "      <td>...</td>\n",
       "      <td>...</td>\n",
       "      <td>...</td>\n",
       "      <td>...</td>\n",
       "      <td>...</td>\n",
       "      <td>...</td>\n",
       "      <td>...</td>\n",
       "      <td>...</td>\n",
       "      <td>...</td>\n",
       "      <td>...</td>\n",
       "    </tr>\n",
       "    <tr>\n",
       "      <th>1226</th>\n",
       "      <td>30/04/2004</td>\n",
       "      <td>20.00.00</td>\n",
       "      <td>4,4</td>\n",
       "      <td>1449.0</td>\n",
       "      <td>501.0</td>\n",
       "      <td>19,5</td>\n",
       "      <td>1282.0</td>\n",
       "      <td>254.0</td>\n",
       "      <td>625.0</td>\n",
       "      <td>133.0</td>\n",
       "      <td>2100.0</td>\n",
       "      <td>1569.0</td>\n",
       "      <td>19,1</td>\n",
       "      <td>61,1</td>\n",
       "      <td>1,3345</td>\n",
       "    </tr>\n",
       "    <tr>\n",
       "      <th>1227</th>\n",
       "      <td>30/04/2004</td>\n",
       "      <td>21.00.00</td>\n",
       "      <td>3,1</td>\n",
       "      <td>1363.0</td>\n",
       "      <td>234.0</td>\n",
       "      <td>15,1</td>\n",
       "      <td>1152.0</td>\n",
       "      <td>189.0</td>\n",
       "      <td>684.0</td>\n",
       "      <td>110.0</td>\n",
       "      <td>1951.0</td>\n",
       "      <td>1495.0</td>\n",
       "      <td>18,2</td>\n",
       "      <td>65,4</td>\n",
       "      <td>1,3529</td>\n",
       "    </tr>\n",
       "    <tr>\n",
       "      <th>1228</th>\n",
       "      <td>30/04/2004</td>\n",
       "      <td>22.00.00</td>\n",
       "      <td>3</td>\n",
       "      <td>1371.0</td>\n",
       "      <td>212.0</td>\n",
       "      <td>14,6</td>\n",
       "      <td>1136.0</td>\n",
       "      <td>174.0</td>\n",
       "      <td>689.0</td>\n",
       "      <td>102.0</td>\n",
       "      <td>1927.0</td>\n",
       "      <td>1471.0</td>\n",
       "      <td>18,1</td>\n",
       "      <td>66,1</td>\n",
       "      <td>1,3579</td>\n",
       "    </tr>\n",
       "    <tr>\n",
       "      <th>1229</th>\n",
       "      <td>30/04/2004</td>\n",
       "      <td>23.00.00</td>\n",
       "      <td>3,1</td>\n",
       "      <td>1406.0</td>\n",
       "      <td>275.0</td>\n",
       "      <td>13,7</td>\n",
       "      <td>1107.0</td>\n",
       "      <td>167.0</td>\n",
       "      <td>718.0</td>\n",
       "      <td>108.0</td>\n",
       "      <td>1872.0</td>\n",
       "      <td>1384.0</td>\n",
       "      <td>17,7</td>\n",
       "      <td>66,9</td>\n",
       "      <td>1,3422</td>\n",
       "    </tr>\n",
       "    <tr>\n",
       "      <th>1230</th>\n",
       "      <td>01/05/2004</td>\n",
       "      <td>00.00.00</td>\n",
       "      <td>3,5</td>\n",
       "      <td>1425.0</td>\n",
       "      <td>275.0</td>\n",
       "      <td>15,2</td>\n",
       "      <td>1155.0</td>\n",
       "      <td>185.0</td>\n",
       "      <td>709.0</td>\n",
       "      <td>110.0</td>\n",
       "      <td>1936.0</td>\n",
       "      <td>1789.0</td>\n",
       "      <td>17,8</td>\n",
       "      <td>66,8</td>\n",
       "      <td>1,3460</td>\n",
       "    </tr>\n",
       "  </tbody>\n",
       "</table>\n",
       "<p>827 rows × 15 columns</p>\n",
       "</div>"
      ],
      "text/plain": [
       "            Date      Time CO(GT)  PT08.S1(CO)  NMHC(GT) C6H6(GT)  \\\n",
       "0     10/03/2004  18.00.00    2,6       1360.0     150.0     11,9   \n",
       "1     10/03/2004  19.00.00      2       1292.0     112.0      9,4   \n",
       "2     10/03/2004  20.00.00    2,2       1402.0      88.0      9,0   \n",
       "3     10/03/2004  21.00.00    2,2       1376.0      80.0      9,2   \n",
       "4     10/03/2004  22.00.00    1,6       1272.0      51.0      6,5   \n",
       "...          ...       ...    ...          ...       ...      ...   \n",
       "1226  30/04/2004  20.00.00    4,4       1449.0     501.0     19,5   \n",
       "1227  30/04/2004  21.00.00    3,1       1363.0     234.0     15,1   \n",
       "1228  30/04/2004  22.00.00      3       1371.0     212.0     14,6   \n",
       "1229  30/04/2004  23.00.00    3,1       1406.0     275.0     13,7   \n",
       "1230  01/05/2004  00.00.00    3,5       1425.0     275.0     15,2   \n",
       "\n",
       "      PT08.S2(NMHC)  NOx(GT)  PT08.S3(NOx)  NO2(GT)  PT08.S4(NO2)  \\\n",
       "0            1046.0    166.0        1056.0    113.0        1692.0   \n",
       "1             955.0    103.0        1174.0     92.0        1559.0   \n",
       "2             939.0    131.0        1140.0    114.0        1555.0   \n",
       "3             948.0    172.0        1092.0    122.0        1584.0   \n",
       "4             836.0    131.0        1205.0    116.0        1490.0   \n",
       "...             ...      ...           ...      ...           ...   \n",
       "1226         1282.0    254.0         625.0    133.0        2100.0   \n",
       "1227         1152.0    189.0         684.0    110.0        1951.0   \n",
       "1228         1136.0    174.0         689.0    102.0        1927.0   \n",
       "1229         1107.0    167.0         718.0    108.0        1872.0   \n",
       "1230         1155.0    185.0         709.0    110.0        1936.0   \n",
       "\n",
       "      PT08.S5(O3)     T    RH      AH  \n",
       "0          1268.0  13,6  48,9  0,7578  \n",
       "1           972.0  13,3  47,7  0,7255  \n",
       "2          1074.0  11,9  54,0  0,7502  \n",
       "3          1203.0  11,0  60,0  0,7867  \n",
       "4          1110.0  11,2  59,6  0,7888  \n",
       "...           ...   ...   ...     ...  \n",
       "1226       1569.0  19,1  61,1  1,3345  \n",
       "1227       1495.0  18,2  65,4  1,3529  \n",
       "1228       1471.0  18,1  66,1  1,3579  \n",
       "1229       1384.0  17,7  66,9  1,3422  \n",
       "1230       1789.0  17,8  66,8  1,3460  \n",
       "\n",
       "[827 rows x 15 columns]"
      ]
     },
     "execution_count": 4,
     "metadata": {},
     "output_type": "execute_result"
    }
   ],
   "source": [
    "raw_data[columns].dropna()"
   ]
  },
  {
   "cell_type": "code",
   "execution_count": 5,
   "metadata": {},
   "outputs": [
    {
     "data": {
      "text/plain": [
       "(9357, 15)"
      ]
     },
     "execution_count": 5,
     "metadata": {},
     "output_type": "execute_result"
    }
   ],
   "source": [
    "data_cleaning_1 = raw_data[columns]\n",
    "data_cleaning_1.shape"
   ]
  },
  {
   "cell_type": "code",
   "execution_count": 6,
   "metadata": {},
   "outputs": [],
   "source": [
    "data_cleaning_2 = data_cleaning_1.loc[:, data_cleaning_1.columns != 'NMHC(GT)']"
   ]
  },
  {
   "cell_type": "code",
   "execution_count": 7,
   "metadata": {},
   "outputs": [
    {
     "name": "stderr",
     "output_type": "stream",
     "text": [
      "/home/ernesto/anaconda3/envs/test/lib/python3.7/site-packages/ipykernel_launcher.py:1: SettingWithCopyWarning: \n",
      "A value is trying to be set on a copy of a slice from a DataFrame.\n",
      "Try using .loc[row_indexer,col_indexer] = value instead\n",
      "\n",
      "See the caveats in the documentation: https://pandas.pydata.org/pandas-docs/stable/user_guide/indexing.html#returning-a-view-versus-a-copy\n",
      "  \"\"\"Entry point for launching an IPython kernel.\n",
      "/home/ernesto/anaconda3/envs/test/lib/python3.7/site-packages/ipykernel_launcher.py:2: SettingWithCopyWarning: \n",
      "A value is trying to be set on a copy of a slice from a DataFrame.\n",
      "Try using .loc[row_indexer,col_indexer] = value instead\n",
      "\n",
      "See the caveats in the documentation: https://pandas.pydata.org/pandas-docs/stable/user_guide/indexing.html#returning-a-view-versus-a-copy\n",
      "  \n",
      "/home/ernesto/anaconda3/envs/test/lib/python3.7/site-packages/ipykernel_launcher.py:3: SettingWithCopyWarning: \n",
      "A value is trying to be set on a copy of a slice from a DataFrame.\n",
      "Try using .loc[row_indexer,col_indexer] = value instead\n",
      "\n",
      "See the caveats in the documentation: https://pandas.pydata.org/pandas-docs/stable/user_guide/indexing.html#returning-a-view-versus-a-copy\n",
      "  This is separate from the ipykernel package so we can avoid doing imports until\n",
      "/home/ernesto/anaconda3/envs/test/lib/python3.7/site-packages/ipykernel_launcher.py:4: SettingWithCopyWarning: \n",
      "A value is trying to be set on a copy of a slice from a DataFrame.\n",
      "Try using .loc[row_indexer,col_indexer] = value instead\n",
      "\n",
      "See the caveats in the documentation: https://pandas.pydata.org/pandas-docs/stable/user_guide/indexing.html#returning-a-view-versus-a-copy\n",
      "  after removing the cwd from sys.path.\n",
      "/home/ernesto/anaconda3/envs/test/lib/python3.7/site-packages/ipykernel_launcher.py:5: SettingWithCopyWarning: \n",
      "A value is trying to be set on a copy of a slice from a DataFrame.\n",
      "Try using .loc[row_indexer,col_indexer] = value instead\n",
      "\n",
      "See the caveats in the documentation: https://pandas.pydata.org/pandas-docs/stable/user_guide/indexing.html#returning-a-view-versus-a-copy\n",
      "  \"\"\"\n"
     ]
    }
   ],
   "source": [
    "data_cleaning_2['CO(GT)'] = data_cleaning_2['CO(GT)'].str.replace(',', '.').astype(float)\n",
    "data_cleaning_2['C6H6(GT)'] = data_cleaning_2['C6H6(GT)'].str.replace(',', '.').astype(float)\n",
    "data_cleaning_2['T'] = data_cleaning_2['T'].str.replace(',', '.').astype(float)\n",
    "data_cleaning_2['RH'] = data_cleaning_2['RH'].str.replace(',', '.').astype(float)\n",
    "data_cleaning_2['AH'] = data_cleaning_2['AH'].str.replace(',', '.').astype(float)"
   ]
  },
  {
   "cell_type": "code",
   "execution_count": 8,
   "metadata": {},
   "outputs": [],
   "source": [
    "data_cleaning_2 = data_cleaning_2.replace(-200.000000, np.nan)"
   ]
  },
  {
   "cell_type": "code",
   "execution_count": 9,
   "metadata": {},
   "outputs": [],
   "source": [
    "data_cleaning_2.dropna(thresh=10,axis=0,inplace=True)"
   ]
  },
  {
   "cell_type": "code",
   "execution_count": 10,
   "metadata": {},
   "outputs": [],
   "source": [
    "data_cleaning_3 = data_cleaning_2.reset_index(drop=True)"
   ]
  },
  {
   "cell_type": "code",
   "execution_count": 11,
   "metadata": {},
   "outputs": [],
   "source": [
    "no1 = data_cleaning_3[[\"NOx(GT)\"]]"
   ]
  },
  {
   "cell_type": "code",
   "execution_count": 12,
   "metadata": {},
   "outputs": [],
   "source": [
    "def outlayers_media(df,column):\n",
    "    rollingdf = df.rolling(5,center=True,min_periods=1).mean()\n",
    "    rollingdf = rollingdf.rename(columns={column: column+\"_rolling\"})\n",
    "    auxdf = pd.concat([df, rollingdf],axis=1)\n",
    "    auxdf['aux']=df[column].mask(pd.isnull, rollingdf[column+\"_rolling\"])\n",
    "    final = auxdf[['aux']]\n",
    "    final = final.rename(columns={'aux': column})\n",
    "    return final"
   ]
  },
  {
   "cell_type": "code",
   "execution_count": 13,
   "metadata": {},
   "outputs": [],
   "source": [
    "while no1[no1['NOx(GT)'].isnull()].shape[0] > 0:\n",
    "    no1 = outlayers_media(no1,'NOx(GT)')"
   ]
  },
  {
   "cell_type": "code",
   "execution_count": 14,
   "metadata": {},
   "outputs": [],
   "source": [
    "no2 = data_cleaning_3[[\"NO2(GT)\"]]\n",
    "while no2[no2['NO2(GT)'].isnull()].shape[0] > 0:\n",
    "    no2 = outlayers_media(no2,'NO2(GT)')"
   ]
  },
  {
   "cell_type": "code",
   "execution_count": 15,
   "metadata": {},
   "outputs": [],
   "source": [
    "no3 = data_cleaning_3[[\"CO(GT)\"]]\n",
    "while no3[no3['CO(GT)'].isnull()].shape[0] > 0:\n",
    "    no3 = outlayers_media(no3,'CO(GT)')"
   ]
  },
  {
   "cell_type": "code",
   "execution_count": 16,
   "metadata": {},
   "outputs": [],
   "source": [
    "data_cleaning_4 = data_cleaning_3.drop(['NOx(GT)', 'NO2(GT)','CO(GT)'], axis=1)"
   ]
  },
  {
   "cell_type": "code",
   "execution_count": 17,
   "metadata": {},
   "outputs": [],
   "source": [
    "data_cleaning_5 = pd.concat([data_cleaning_4, no1],axis=1)\n",
    "data_cleaning_5 = pd.concat([data_cleaning_5, no2],axis=1)\n",
    "data_cleaning_6 = pd.concat([data_cleaning_5, no3],axis=1)"
   ]
  },
  {
   "cell_type": "code",
   "execution_count": 18,
   "metadata": {},
   "outputs": [],
   "source": [
    "data_cleaning_6 = data_cleaning_6.drop(['Date', 'Time'], axis=1)"
   ]
  },
  {
   "cell_type": "code",
   "execution_count": 19,
   "metadata": {},
   "outputs": [],
   "source": [
    "data = data_cleaning_6.copy()"
   ]
  },
  {
   "cell_type": "code",
   "execution_count": 20,
   "metadata": {},
   "outputs": [],
   "source": [
    "X = data.loc[:, data.columns != 'NOx(GT)']\n",
    "y = data[['NOx(GT)']]"
   ]
  },
  {
   "cell_type": "code",
   "execution_count": 21,
   "metadata": {},
   "outputs": [],
   "source": [
    "x_train, x_test, y_train, y_test = train_test_split(X, y,random_state = 3,test_size=0.2)"
   ]
  },
  {
   "cell_type": "code",
   "execution_count": 22,
   "metadata": {},
   "outputs": [
    {
     "name": "stdout",
     "output_type": "stream",
     "text": [
      "R2 en entrenamiento es: 0.8593843314298374\n",
      "R2 en test es: 0.8246409221849591\n"
     ]
    }
   ],
   "source": [
    "model = LinearRegression()\n",
    "model.fit(x_train, y_train)\n",
    "\n",
    "predit_train = model.predict(x_train)\n",
    "predit_test = model.predict(x_test)\n",
    "\n",
    "print('R2 en entrenamiento es: {}'.format(model.score(x_train, y_train)))\n",
    "print('R2 en test es: {}'.format(r2_score(predit_test, y_test)))"
   ]
  },
  {
   "cell_type": "code",
   "execution_count": 23,
   "metadata": {},
   "outputs": [
    {
     "data": {
      "text/plain": [
       "LinearRegression(copy_X=True, fit_intercept=True, n_jobs=None, normalize=False)"
      ]
     },
     "execution_count": 23,
     "metadata": {},
     "output_type": "execute_result"
    }
   ],
   "source": [
    "model = LinearRegression()\n",
    "model.fit(X, y)"
   ]
  },
  {
   "cell_type": "code",
   "execution_count": 24,
   "metadata": {},
   "outputs": [
    {
     "name": "stdout",
     "output_type": "stream",
     "text": [
      "Modelo serializado en models/regressor_air_quality.sav\n"
     ]
    }
   ],
   "source": [
    "path = \"models/\"\n",
    "filename = 'regressor_air_quality.sav'\n",
    "\n",
    "try:\n",
    "    if not os.path.exists('models'):\n",
    "        os.makedirs('models')\n",
    "    pickle.dump(model, open(path+filename, 'wb'))\n",
    "    print(\"Modelo serializado en {}\".format(path+filename))\n",
    "except:\n",
    "    print(\"Error al serializar\")"
   ]
  }
 ],
 "metadata": {
  "kernelspec": {
   "display_name": "Python 3",
   "language": "python",
   "name": "python3"
  },
  "language_info": {
   "codemirror_mode": {
    "name": "ipython",
    "version": 3
   },
   "file_extension": ".py",
   "mimetype": "text/x-python",
   "name": "python",
   "nbconvert_exporter": "python",
   "pygments_lexer": "ipython3",
   "version": "3.7.7"
  },
  "toc": {
   "base_numbering": 1,
   "nav_menu": {},
   "number_sections": true,
   "sideBar": true,
   "skip_h1_title": false,
   "title_cell": "Table of Contents",
   "title_sidebar": "Contents",
   "toc_cell": false,
   "toc_position": {},
   "toc_section_display": true,
   "toc_window_display": false
  }
 },
 "nbformat": 4,
 "nbformat_minor": 4
}
